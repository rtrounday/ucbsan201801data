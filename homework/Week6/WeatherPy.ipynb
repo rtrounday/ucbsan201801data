{
 "cells": [
  {
   "cell_type": "code",
   "execution_count": 43,
   "metadata": {},
   "outputs": [],
   "source": [
    "# Dependencies\n",
    "import openweathermapy.core as ow\n",
    "from citipy import citipy\n",
    "import matplotlib.pyplot as plt\n",
    "import pandas as pd\n",
    "import numpy as np\n",
    "import seaborn as sns\n",
    "import requests as req\n",
    "import os\n",
    "import time\n",
    "from secrets import API_KEY"
   ]
  },
  {
   "cell_type": "code",
   "execution_count": 44,
   "metadata": {},
   "outputs": [
    {
     "data": {
      "text/plain": [
       "array([ 68.29,  72.82,   6.7 , -87.88,  68.42, -82.93,   0.22,  -9.88,\n",
       "        21.64, -77.27,  34.75,  51.1 , -89.4 , -44.65,  13.11, -21.84,\n",
       "        82.28,   8.65,  -5.77,  83.52])"
      ]
     },
     "execution_count": 44,
     "metadata": {},
     "output_type": "execute_result"
    }
   ],
   "source": [
    "# Create random latitudes from -90 to 90\n",
    "world_city_lat = np.random.uniform(low=-90.0, high=90.0, size=(20,))\n",
    "world_city_lat = np.round( [float(i) for i in world_city_lat], 2)\n",
    "world_city_lat\n"
   ]
  },
  {
   "cell_type": "code",
   "execution_count": 45,
   "metadata": {},
   "outputs": [
    {
     "data": {
      "text/plain": [
       "array([-115.94,  -17.91,    9.46,  138.72, -146.89,  -58.41,  -81.97,\n",
       "         46.42,   87.41, -101.23,  166.32,  179.43,  -50.21,   17.23,\n",
       "         35.98, -131.52, -158.  ,  164.51,  -35.37,  -55.82])"
      ]
     },
     "execution_count": 45,
     "metadata": {},
     "output_type": "execute_result"
    }
   ],
   "source": [
    "# Create random longitudes from -180 to 180\n",
    "world_city_lon = np.random.uniform(low=-180.0, high=180.0, size=(20,))\n",
    "world_city_lon = np.round( [float(i) for i in world_city_lon], 2)\n",
    "world_city_lon"
   ]
  },
  {
   "cell_type": "code",
   "execution_count": 46,
   "metadata": {},
   "outputs": [],
   "source": [
    "# Save config information.\n",
    "#print (API_KEY)\n",
    "url = \"http://api.openweathermap.org/data/2.5/weather?\"\n",
    "units = \"imperial\""
   ]
  },
  {
   "cell_type": "code",
   "execution_count": 47,
   "metadata": {},
   "outputs": [
    {
     "data": {
      "text/plain": [
       "array([[  68.29, -115.94],\n",
       "       [  72.82,  -17.91],\n",
       "       [   6.7 ,    9.46],\n",
       "       [ -87.88,  138.72],\n",
       "       [  68.42, -146.89],\n",
       "       [ -82.93,  -58.41],\n",
       "       [   0.22,  -81.97],\n",
       "       [  -9.88,   46.42],\n",
       "       [  21.64,   87.41],\n",
       "       [ -77.27, -101.23],\n",
       "       [  34.75,  166.32],\n",
       "       [  51.1 ,  179.43],\n",
       "       [ -89.4 ,  -50.21],\n",
       "       [ -44.65,   17.23],\n",
       "       [  13.11,   35.98],\n",
       "       [ -21.84, -131.52],\n",
       "       [  82.28, -158.  ],\n",
       "       [   8.65,  164.51],\n",
       "       [  -5.77,  -35.37],\n",
       "       [  83.52,  -55.82]])"
      ]
     },
     "execution_count": 47,
     "metadata": {},
     "output_type": "execute_result"
    }
   ],
   "source": [
    "# create a list of lat lon tuples "
   ]
  },
  {
   "cell_type": "code",
   "execution_count": 48,
   "metadata": {},
   "outputs": [
    {
     "data": {
      "text/plain": [
       "['yellowknife',\n",
       " 'illoqqortoormiut',\n",
       " 'wum',\n",
       " 'hobart',\n",
       " 'fairbanks',\n",
       " 'ushuaia',\n",
       " 'manta',\n",
       " 'domoni',\n",
       " 'digha',\n",
       " 'punta arenas',\n",
       " 'severo-kurilsk',\n",
       " 'beringovskiy',\n",
       " 'ushuaia',\n",
       " 'hermanus',\n",
       " 'doka',\n",
       " 'rikitea',\n",
       " 'barrow',\n",
       " 'butaritari',\n",
       " 'sao goncalo do amarante',\n",
       " 'upernavik']"
      ]
     },
     "execution_count": 48,
     "metadata": {},
     "output_type": "execute_result"
    }
   ],
   "source": [
    "cities = []\n",
    "for coordinate_pair in world_city_latlons:\n",
    "    lat, lon = coordinate_pair\n",
    "    cities.append(citipy.nearest_city(lat, lon))\n",
    "candidate_cities = []\n",
    "for city in cities:\n",
    "    if city not in candidate_cities:\n",
    "        candidate_cities.append(city.city_name)\n",
    "candidate_cities\n",
    "    \n",
    "\n"
   ]
  },
  {
   "cell_type": "code",
   "execution_count": 49,
   "metadata": {},
   "outputs": [
    {
     "data": {
      "text/plain": [
       "'http://api.openweathermap.org/data/2.5/weather?appid=25bc90a1196e6f153eece0bc0b0fc9eb&units=imperial&q='"
      ]
     },
     "execution_count": 49,
     "metadata": {},
     "output_type": "execute_result"
    }
   ],
   "source": [
    "query_url = url + \"appid=\" + API_KEY + \"&units=\" + units + \"&q=\"\n",
    "query_url"
   ]
  },
  {
   "cell_type": "code",
   "execution_count": 50,
   "metadata": {},
   "outputs": [],
   "source": [
    "weather_data = []"
   ]
  },
  {
   "cell_type": "code",
   "execution_count": 51,
   "metadata": {},
   "outputs": [
    {
     "name": "stdout",
     "output_type": "stream",
     "text": [
      "http://api.openweathermap.org/data/2.5/weather?appid=25bc90a1196e6f153eece0bc0b0fc9eb&units=imperial&q=yellowknife\n",
      "http://api.openweathermap.org/data/2.5/weather?appid=25bc90a1196e6f153eece0bc0b0fc9eb&units=imperial&q=illoqqortoormiut\n",
      "http://api.openweathermap.org/data/2.5/weather?appid=25bc90a1196e6f153eece0bc0b0fc9eb&units=imperial&q=wum\n",
      "http://api.openweathermap.org/data/2.5/weather?appid=25bc90a1196e6f153eece0bc0b0fc9eb&units=imperial&q=hobart\n",
      "http://api.openweathermap.org/data/2.5/weather?appid=25bc90a1196e6f153eece0bc0b0fc9eb&units=imperial&q=fairbanks\n",
      "http://api.openweathermap.org/data/2.5/weather?appid=25bc90a1196e6f153eece0bc0b0fc9eb&units=imperial&q=ushuaia\n",
      "http://api.openweathermap.org/data/2.5/weather?appid=25bc90a1196e6f153eece0bc0b0fc9eb&units=imperial&q=manta\n",
      "http://api.openweathermap.org/data/2.5/weather?appid=25bc90a1196e6f153eece0bc0b0fc9eb&units=imperial&q=domoni\n",
      "http://api.openweathermap.org/data/2.5/weather?appid=25bc90a1196e6f153eece0bc0b0fc9eb&units=imperial&q=digha\n",
      "http://api.openweathermap.org/data/2.5/weather?appid=25bc90a1196e6f153eece0bc0b0fc9eb&units=imperial&q=punta arenas\n",
      "http://api.openweathermap.org/data/2.5/weather?appid=25bc90a1196e6f153eece0bc0b0fc9eb&units=imperial&q=severo-kurilsk\n",
      "http://api.openweathermap.org/data/2.5/weather?appid=25bc90a1196e6f153eece0bc0b0fc9eb&units=imperial&q=beringovskiy\n",
      "http://api.openweathermap.org/data/2.5/weather?appid=25bc90a1196e6f153eece0bc0b0fc9eb&units=imperial&q=ushuaia\n",
      "http://api.openweathermap.org/data/2.5/weather?appid=25bc90a1196e6f153eece0bc0b0fc9eb&units=imperial&q=hermanus\n",
      "http://api.openweathermap.org/data/2.5/weather?appid=25bc90a1196e6f153eece0bc0b0fc9eb&units=imperial&q=doka\n",
      "http://api.openweathermap.org/data/2.5/weather?appid=25bc90a1196e6f153eece0bc0b0fc9eb&units=imperial&q=rikitea\n",
      "http://api.openweathermap.org/data/2.5/weather?appid=25bc90a1196e6f153eece0bc0b0fc9eb&units=imperial&q=barrow\n",
      "http://api.openweathermap.org/data/2.5/weather?appid=25bc90a1196e6f153eece0bc0b0fc9eb&units=imperial&q=butaritari\n",
      "http://api.openweathermap.org/data/2.5/weather?appid=25bc90a1196e6f153eece0bc0b0fc9eb&units=imperial&q=sao goncalo do amarante\n",
      "http://api.openweathermap.org/data/2.5/weather?appid=25bc90a1196e6f153eece0bc0b0fc9eb&units=imperial&q=upernavik\n"
     ]
    },
    {
     "data": {
      "text/plain": [
       "{'base': 'stations',\n",
       " 'clouds': {'all': 90},\n",
       " 'cod': 200,\n",
       " 'coord': {'lat': 64.84, 'lon': -147.72},\n",
       " 'dt': 1520118180,\n",
       " 'id': 5861897,\n",
       " 'main': {'humidity': 92,\n",
       "  'pressure': 1025,\n",
       "  'temp': 14.59,\n",
       "  'temp_max': 15.8,\n",
       "  'temp_min': 14},\n",
       " 'name': 'Fairbanks',\n",
       " 'sys': {'country': 'US',\n",
       "  'id': 63,\n",
       "  'message': 0.0036,\n",
       "  'sunrise': 1520095720,\n",
       "  'sunset': 1520133468,\n",
       "  'type': 1},\n",
       " 'visibility': 4828,\n",
       " 'weather': [{'description': 'light snow',\n",
       "   'icon': '13d',\n",
       "   'id': 600,\n",
       "   'main': 'Snow'},\n",
       "  {'description': 'mist', 'icon': '50d', 'id': 701, 'main': 'Mist'}],\n",
       " 'wind': {'deg': 260, 'speed': 4.7}}"
      ]
     },
     "execution_count": 51,
     "metadata": {},
     "output_type": "execute_result"
    }
   ],
   "source": [
    "for city in candidate_cities:\n",
    "    time.sleep(.5)\n",
    "    weather_data.append(req.get(query_url + city).json())\n",
    "    print (query_url+city)\n",
    "weather_data[4]"
   ]
  },
  {
   "cell_type": "code",
   "execution_count": 52,
   "metadata": {},
   "outputs": [
    {
     "data": {
      "text/plain": [
       "[{'base': 'stations',\n",
       "  'clouds': {'all': 20},\n",
       "  'cod': 200,\n",
       "  'coord': {'lat': 62.45, 'lon': -114.38},\n",
       "  'dt': 1520118000,\n",
       "  'id': 6185377,\n",
       "  'main': {'humidity': 71,\n",
       "   'pressure': 1032,\n",
       "   'temp': 5,\n",
       "   'temp_max': 5,\n",
       "   'temp_min': 5},\n",
       "  'name': 'Yellowknife',\n",
       "  'sys': {'country': 'CA',\n",
       "   'id': 3558,\n",
       "   'message': 0.0038,\n",
       "   'sunrise': 1520087449,\n",
       "   'sunset': 1520125730,\n",
       "   'type': 1},\n",
       "  'visibility': 24140,\n",
       "  'weather': [{'description': 'few clouds',\n",
       "    'icon': '02d',\n",
       "    'id': 801,\n",
       "    'main': 'Clouds'}],\n",
       "  'wind': {'deg': 150, 'speed': 6.93}},\n",
       " {'cod': '404', 'message': 'city not found'},\n",
       " {'base': 'stations',\n",
       "  'clouds': {'all': 0},\n",
       "  'cod': 200,\n",
       "  'coord': {'lat': 6.39, 'lon': 10.08},\n",
       "  'dt': 1520119627,\n",
       "  'id': 2221053,\n",
       "  'main': {'grnd_level': 922.11,\n",
       "   'humidity': 61,\n",
       "   'pressure': 922.11,\n",
       "   'sea_level': 1022.35,\n",
       "   'temp': 56.34,\n",
       "   'temp_max': 56.34,\n",
       "   'temp_min': 56.34},\n",
       "  'name': 'Wum',\n",
       "  'sys': {'country': 'CM',\n",
       "   'message': 0.0039,\n",
       "   'sunrise': 1520055059,\n",
       "   'sunset': 1520098313},\n",
       "  'weather': [{'description': 'clear sky',\n",
       "    'icon': '01n',\n",
       "    'id': 800,\n",
       "    'main': 'Clear'}],\n",
       "  'wind': {'deg': 83.0013, 'speed': 0.47}},\n",
       " {'base': 'stations',\n",
       "  'clouds': {'all': 20},\n",
       "  'cod': 200,\n",
       "  'coord': {'lat': -42.88, 'lon': 147.33},\n",
       "  'dt': 1520118000,\n",
       "  'id': 2163355,\n",
       "  'main': {'humidity': 44,\n",
       "   'pressure': 1012,\n",
       "   'temp': 60.8,\n",
       "   'temp_max': 60.8,\n",
       "   'temp_min': 60.8},\n",
       "  'name': 'Hobart',\n",
       "  'sys': {'country': 'AU',\n",
       "   'id': 8195,\n",
       "   'message': 0.008,\n",
       "   'sunrise': 1520020391,\n",
       "   'sunset': 1520067058,\n",
       "   'type': 1},\n",
       "  'visibility': 10000,\n",
       "  'weather': [{'description': 'few clouds',\n",
       "    'icon': '02n',\n",
       "    'id': 801,\n",
       "    'main': 'Clouds'}],\n",
       "  'wind': {'deg': 290, 'speed': 11.41}},\n",
       " {'base': 'stations',\n",
       "  'clouds': {'all': 90},\n",
       "  'cod': 200,\n",
       "  'coord': {'lat': 64.84, 'lon': -147.72},\n",
       "  'dt': 1520118180,\n",
       "  'id': 5861897,\n",
       "  'main': {'humidity': 92,\n",
       "   'pressure': 1025,\n",
       "   'temp': 14.59,\n",
       "   'temp_max': 15.8,\n",
       "   'temp_min': 14},\n",
       "  'name': 'Fairbanks',\n",
       "  'sys': {'country': 'US',\n",
       "   'id': 63,\n",
       "   'message': 0.0036,\n",
       "   'sunrise': 1520095720,\n",
       "   'sunset': 1520133468,\n",
       "   'type': 1},\n",
       "  'visibility': 4828,\n",
       "  'weather': [{'description': 'light snow',\n",
       "    'icon': '13d',\n",
       "    'id': 600,\n",
       "    'main': 'Snow'},\n",
       "   {'description': 'mist', 'icon': '50d', 'id': 701, 'main': 'Mist'}],\n",
       "  'wind': {'deg': 260, 'speed': 4.7}},\n",
       " {'base': 'stations',\n",
       "  'clouds': {'all': 20},\n",
       "  'cod': 200,\n",
       "  'coord': {'lat': -54.81, 'lon': -68.31},\n",
       "  'dt': 1520118000,\n",
       "  'id': 3833367,\n",
       "  'main': {'humidity': 61,\n",
       "   'pressure': 995,\n",
       "   'temp': 50,\n",
       "   'temp_max': 50,\n",
       "   'temp_min': 50},\n",
       "  'name': 'Ushuaia',\n",
       "  'sys': {'country': 'AR',\n",
       "   'id': 4754,\n",
       "   'message': 0.0051,\n",
       "   'sunrise': 1520071351,\n",
       "   'sunset': 1520119562,\n",
       "   'type': 1},\n",
       "  'visibility': 10000,\n",
       "  'weather': [{'description': 'few clouds',\n",
       "    'icon': '02d',\n",
       "    'id': 801,\n",
       "    'main': 'Clouds'}],\n",
       "  'wind': {'deg': 250, 'speed': 13.87}},\n",
       " {'base': 'stations',\n",
       "  'clouds': {'all': 64},\n",
       "  'cod': 200,\n",
       "  'coord': {'lat': 45.1, 'lon': 24.1},\n",
       "  'dt': 1520119630,\n",
       "  'id': 685981,\n",
       "  'main': {'grnd_level': 961.1,\n",
       "   'humidity': 79,\n",
       "   'pressure': 961.1,\n",
       "   'sea_level': 1015.34,\n",
       "   'temp': 24.34,\n",
       "   'temp_max': 24.34,\n",
       "   'temp_min': 24.34},\n",
       "  'name': 'Manta',\n",
       "  'sys': {'country': 'RO',\n",
       "   'message': 0.0039,\n",
       "   'sunrise': 1520053004,\n",
       "   'sunset': 1520093678},\n",
       "  'weather': [{'description': 'broken clouds',\n",
       "    'icon': '04n',\n",
       "    'id': 803,\n",
       "    'main': 'Clouds'}],\n",
       "  'wind': {'deg': 101.001, 'speed': 4.94}},\n",
       " {'cod': '404', 'message': 'city not found'},\n",
       " {'base': 'stations',\n",
       "  'clouds': {'all': 0},\n",
       "  'cod': 200,\n",
       "  'coord': {'lat': 21.62, 'lon': 87.51},\n",
       "  'dt': 1520119632,\n",
       "  'id': 1272625,\n",
       "  'main': {'grnd_level': 1020.27,\n",
       "   'humidity': 98,\n",
       "   'pressure': 1020.27,\n",
       "   'sea_level': 1020.69,\n",
       "   'temp': 76.99,\n",
       "   'temp_max': 76.99,\n",
       "   'temp_min': 76.99},\n",
       "  'name': 'Digha',\n",
       "  'sys': {'country': 'IN',\n",
       "   'message': 0.0032,\n",
       "   'sunrise': 1520036915,\n",
       "   'sunset': 1520079309},\n",
       "  'weather': [{'description': 'clear sky',\n",
       "    'icon': '01n',\n",
       "    'id': 800,\n",
       "    'main': 'Clear'}],\n",
       "  'wind': {'deg': 199.001, 'speed': 10.42}},\n",
       " {'base': 'stations',\n",
       "  'clouds': {'all': 20},\n",
       "  'cod': 200,\n",
       "  'coord': {'lat': -53.16, 'lon': -70.91},\n",
       "  'dt': 1520118000,\n",
       "  'id': 3874787,\n",
       "  'main': {'humidity': 66,\n",
       "   'pressure': 999,\n",
       "   'temp': 50,\n",
       "   'temp_max': 50,\n",
       "   'temp_min': 50},\n",
       "  'name': 'Punta Arenas',\n",
       "  'sys': {'country': 'CL',\n",
       "   'id': 4642,\n",
       "   'message': 0.0077,\n",
       "   'sunrise': 1520072120,\n",
       "   'sunset': 1520120045,\n",
       "   'type': 1},\n",
       "  'visibility': 10000,\n",
       "  'weather': [{'description': 'few clouds',\n",
       "    'icon': '02d',\n",
       "    'id': 801,\n",
       "    'main': 'Clouds'}],\n",
       "  'wind': {'deg': 270, 'speed': 9.17}},\n",
       " {'base': 'stations',\n",
       "  'clouds': {'all': 56},\n",
       "  'cod': 200,\n",
       "  'coord': {'lat': 50.68, 'lon': 156.12},\n",
       "  'dt': 1520119634,\n",
       "  'id': 2121385,\n",
       "  'main': {'grnd_level': 1007.06,\n",
       "   'humidity': 100,\n",
       "   'pressure': 1007.06,\n",
       "   'sea_level': 1020.85,\n",
       "   'temp': 26.1,\n",
       "   'temp_max': 26.1,\n",
       "   'temp_min': 26.1},\n",
       "  'name': 'Severo-Kurilsk',\n",
       "  'sys': {'country': 'RU',\n",
       "   'message': 0.0031,\n",
       "   'sunrise': 1520021674,\n",
       "   'sunset': 1520061657},\n",
       "  'weather': [{'description': 'broken clouds',\n",
       "    'icon': '04n',\n",
       "    'id': 803,\n",
       "    'main': 'Clouds'}],\n",
       "  'wind': {'deg': 264.501, 'speed': 25.3}},\n",
       " {'base': 'stations',\n",
       "  'clouds': {'all': 88},\n",
       "  'cod': 200,\n",
       "  'coord': {'lat': 63.05, 'lon': 179.32},\n",
       "  'dt': 1520119635,\n",
       "  'id': 2126710,\n",
       "  'main': {'grnd_level': 1015.98,\n",
       "   'humidity': 98,\n",
       "   'pressure': 1015.98,\n",
       "   'sea_level': 1024.05,\n",
       "   'temp': 31.95,\n",
       "   'temp_max': 31.95,\n",
       "   'temp_min': 31.95},\n",
       "  'name': 'Beringovskiy',\n",
       "  'sys': {'country': 'RU',\n",
       "   'message': 0.0036,\n",
       "   'sunrise': 1520017192,\n",
       "   'sunset': 1520055033},\n",
       "  'weather': [{'description': 'overcast clouds',\n",
       "    'icon': '04n',\n",
       "    'id': 804,\n",
       "    'main': 'Clouds'}],\n",
       "  'wind': {'deg': 118.001, 'speed': 20.04}},\n",
       " {'base': 'stations',\n",
       "  'clouds': {'all': 20},\n",
       "  'cod': 200,\n",
       "  'coord': {'lat': -54.81, 'lon': -68.31},\n",
       "  'dt': 1520118000,\n",
       "  'id': 3833367,\n",
       "  'main': {'humidity': 61,\n",
       "   'pressure': 995,\n",
       "   'temp': 50,\n",
       "   'temp_max': 50,\n",
       "   'temp_min': 50},\n",
       "  'name': 'Ushuaia',\n",
       "  'sys': {'country': 'AR',\n",
       "   'id': 4754,\n",
       "   'message': 0.0051,\n",
       "   'sunrise': 1520071351,\n",
       "   'sunset': 1520119562,\n",
       "   'type': 1},\n",
       "  'visibility': 10000,\n",
       "  'weather': [{'description': 'few clouds',\n",
       "    'icon': '02d',\n",
       "    'id': 801,\n",
       "    'main': 'Clouds'}],\n",
       "  'wind': {'deg': 250, 'speed': 13.87}},\n",
       " {'base': 'stations',\n",
       "  'clouds': {'all': 8},\n",
       "  'cod': 200,\n",
       "  'coord': {'lat': -34.42, 'lon': 19.24},\n",
       "  'dt': 1520119636,\n",
       "  'id': 3366880,\n",
       "  'main': {'grnd_level': 987.36,\n",
       "   'humidity': 94,\n",
       "   'pressure': 987.36,\n",
       "   'sea_level': 1026.73,\n",
       "   'temp': 55.17,\n",
       "   'temp_max': 55.17,\n",
       "   'temp_min': 55.17},\n",
       "  'name': 'Hermanus',\n",
       "  'sys': {'country': 'ZA',\n",
       "   'message': 0.0035,\n",
       "   'sunrise': 1520051573,\n",
       "   'sunset': 1520097363},\n",
       "  'weather': [{'description': 'clear sky',\n",
       "    'icon': '02n',\n",
       "    'id': 800,\n",
       "    'main': 'Clear'}],\n",
       "  'wind': {'deg': 103.001, 'speed': 4.5}},\n",
       " {'base': 'stations',\n",
       "  'clouds': {'all': 0},\n",
       "  'cod': 200,\n",
       "  'coord': {'lat': 13.52, 'lon': 35.76},\n",
       "  'dt': 1520119637,\n",
       "  'id': 376332,\n",
       "  'main': {'grnd_level': 954.13,\n",
       "   'humidity': 42,\n",
       "   'pressure': 954.13,\n",
       "   'sea_level': 1020.61,\n",
       "   'temp': 62.64,\n",
       "   'temp_max': 62.64,\n",
       "   'temp_min': 62.64},\n",
       "  'name': 'Doka',\n",
       "  'sys': {'country': 'SD',\n",
       "   'message': 0.0036,\n",
       "   'sunrise': 1520049093,\n",
       "   'sunset': 1520091960},\n",
       "  'weather': [{'description': 'clear sky',\n",
       "    'icon': '01n',\n",
       "    'id': 800,\n",
       "    'main': 'Clear'}],\n",
       "  'wind': {'deg': 343.501, 'speed': 5.73}},\n",
       " {'base': 'stations',\n",
       "  'clouds': {'all': 20},\n",
       "  'cod': 200,\n",
       "  'coord': {'lat': -23.12, 'lon': -134.97},\n",
       "  'dt': 1520119638,\n",
       "  'id': 4030556,\n",
       "  'main': {'grnd_level': 1028.54,\n",
       "   'humidity': 100,\n",
       "   'pressure': 1028.54,\n",
       "   'sea_level': 1028.63,\n",
       "   'temp': 80.01,\n",
       "   'temp_max': 80.01,\n",
       "   'temp_min': 80.01},\n",
       "  'name': 'Rikitea',\n",
       "  'rain': {'3h': 1.015},\n",
       "  'sys': {'country': 'PF',\n",
       "   'message': 0.0034,\n",
       "   'sunrise': 1520089025,\n",
       "   'sunset': 1520133934},\n",
       "  'weather': [{'description': 'light rain',\n",
       "    'icon': '10d',\n",
       "    'id': 500,\n",
       "    'main': 'Rain'}],\n",
       "  'wind': {'deg': 92.5013, 'speed': 16.02}},\n",
       " {'base': 'stations',\n",
       "  'clouds': {'all': 0},\n",
       "  'cod': 200,\n",
       "  'coord': {'lat': -38.31, 'lon': -60.23},\n",
       "  'dt': 1520119639,\n",
       "  'id': 3833859,\n",
       "  'main': {'grnd_level': 1010.14,\n",
       "   'humidity': 31,\n",
       "   'pressure': 1010.14,\n",
       "   'sea_level': 1021.78,\n",
       "   'temp': 81.76,\n",
       "   'temp_max': 81.76,\n",
       "   'temp_min': 81.76},\n",
       "  'name': 'Barrow',\n",
       "  'sys': {'country': 'AR',\n",
       "   'message': 0.0032,\n",
       "   'sunrise': 1520070482,\n",
       "   'sunset': 1520116588},\n",
       "  'weather': [{'description': 'clear sky',\n",
       "    'icon': '01n',\n",
       "    'id': 800,\n",
       "    'main': 'Clear'}],\n",
       "  'wind': {'deg': 27.0013, 'speed': 10.76}},\n",
       " {'base': 'stations',\n",
       "  'clouds': {'all': 24},\n",
       "  'cod': 200,\n",
       "  'coord': {'lat': 3.07, 'lon': 172.79},\n",
       "  'dt': 1520119640,\n",
       "  'id': 2110227,\n",
       "  'main': {'grnd_level': 1021.89,\n",
       "   'humidity': 100,\n",
       "   'pressure': 1021.89,\n",
       "   'sea_level': 1021.9,\n",
       "   'temp': 80.73,\n",
       "   'temp_max': 80.73,\n",
       "   'temp_min': 80.73},\n",
       "  'name': 'Butaritari',\n",
       "  'rain': {'3h': 0.8825},\n",
       "  'sys': {'country': 'KI',\n",
       "   'message': 0.005,\n",
       "   'sunrise': 1520015926,\n",
       "   'sunset': 1520059354},\n",
       "  'weather': [{'description': 'light rain',\n",
       "    'icon': '10n',\n",
       "    'id': 500,\n",
       "    'main': 'Rain'}],\n",
       "  'wind': {'deg': 108.501, 'speed': 9.19}},\n",
       " {'base': 'stations',\n",
       "  'clouds': {'all': 20},\n",
       "  'cod': 200,\n",
       "  'coord': {'lat': -3.61, 'lon': -38.97},\n",
       "  'dt': 1520118000,\n",
       "  'id': 3388714,\n",
       "  'main': {'humidity': 83,\n",
       "   'pressure': 1011,\n",
       "   'temp': 80.6,\n",
       "   'temp_max': 80.6,\n",
       "   'temp_min': 80.6},\n",
       "  'name': 'Sao Goncalo do Amarante',\n",
       "  'sys': {'country': 'BR',\n",
       "   'id': 4498,\n",
       "   'message': 0.0032,\n",
       "   'sunrise': 1520066558,\n",
       "   'sunset': 1520110346,\n",
       "   'type': 1},\n",
       "  'visibility': 10000,\n",
       "  'weather': [{'description': 'few clouds',\n",
       "    'icon': '02n',\n",
       "    'id': 801,\n",
       "    'main': 'Clouds'}],\n",
       "  'wind': {'deg': 70, 'speed': 6.93}},\n",
       " {'base': 'stations',\n",
       "  'clouds': {'all': 64},\n",
       "  'cod': 200,\n",
       "  'coord': {'lat': 72.79, 'lon': -56.15},\n",
       "  'dt': 1520119642,\n",
       "  'id': 3418910,\n",
       "  'main': {'grnd_level': 1047.99,\n",
       "   'humidity': 100,\n",
       "   'pressure': 1047.99,\n",
       "   'sea_level': 1051.45,\n",
       "   'temp': 15.12,\n",
       "   'temp_max': 15.12,\n",
       "   'temp_min': 15.12},\n",
       "  'name': 'Upernavik',\n",
       "  'sys': {'country': 'GL',\n",
       "   'message': 0.0043,\n",
       "   'sunrise': 1520075328,\n",
       "   'sunset': 1520109951},\n",
       "  'weather': [{'description': 'broken clouds',\n",
       "    'icon': '04n',\n",
       "    'id': 803,\n",
       "    'main': 'Clouds'}],\n",
       "  'wind': {'deg': 349.501, 'speed': 16.24}}]"
      ]
     },
     "execution_count": 52,
     "metadata": {},
     "output_type": "execute_result"
    }
   ],
   "source": [
    "weather_data"
   ]
  },
  {
   "cell_type": "code",
   "execution_count": 55,
   "metadata": {},
   "outputs": [
    {
     "ename": "AttributeError",
     "evalue": "'NoneType' object has no attribute 'get'",
     "output_type": "error",
     "traceback": [
      "\u001b[1;31m---------------------------------------------------------------------------\u001b[0m",
      "\u001b[1;31mAttributeError\u001b[0m                            Traceback (most recent call last)",
      "\u001b[1;32m<ipython-input-55-d546d501bd71>\u001b[0m in \u001b[0;36m<module>\u001b[1;34m()\u001b[0m\n\u001b[0;32m      1\u001b[0m \u001b[1;31m# Extract latitude and temperature from json\u001b[0m\u001b[1;33m\u001b[0m\u001b[1;33m\u001b[0m\u001b[0m\n\u001b[1;32m----> 2\u001b[1;33m \u001b[0ml_data\u001b[0m \u001b[1;33m=\u001b[0m \u001b[1;33m[\u001b[0m\u001b[0md\u001b[0m\u001b[1;33m.\u001b[0m\u001b[0mget\u001b[0m\u001b[1;33m(\u001b[0m\u001b[1;34m\"coord\"\u001b[0m\u001b[1;33m)\u001b[0m\u001b[1;33m.\u001b[0m\u001b[0mget\u001b[0m\u001b[1;33m(\u001b[0m\u001b[1;34m\"lat\"\u001b[0m\u001b[1;33m)\u001b[0m \u001b[1;32mfor\u001b[0m \u001b[0md\u001b[0m \u001b[1;32min\u001b[0m \u001b[0mweather_data\u001b[0m\u001b[1;33m]\u001b[0m\u001b[1;33m\u001b[0m\u001b[0m\n\u001b[0m\u001b[0;32m      3\u001b[0m \u001b[0mt_data\u001b[0m \u001b[1;33m=\u001b[0m \u001b[1;33m[\u001b[0m\u001b[0md\u001b[0m\u001b[1;33m.\u001b[0m\u001b[0mget\u001b[0m\u001b[1;33m(\u001b[0m\u001b[1;34m\"main\"\u001b[0m\u001b[1;33m)\u001b[0m\u001b[1;33m.\u001b[0m\u001b[0mget\u001b[0m\u001b[1;33m(\u001b[0m\u001b[1;34m\"temp\"\u001b[0m\u001b[1;33m)\u001b[0m \u001b[1;32mfor\u001b[0m \u001b[0md\u001b[0m \u001b[1;32min\u001b[0m \u001b[0mweather_data\u001b[0m\u001b[1;33m]\u001b[0m\u001b[1;33m\u001b[0m\u001b[0m\n\u001b[0;32m      4\u001b[0m \u001b[0mh_data\u001b[0m \u001b[1;33m=\u001b[0m \u001b[1;33m[\u001b[0m\u001b[0md\u001b[0m\u001b[1;33m.\u001b[0m\u001b[0mget\u001b[0m\u001b[1;33m(\u001b[0m\u001b[1;34m'main'\u001b[0m\u001b[1;33m)\u001b[0m\u001b[1;33m.\u001b[0m\u001b[0mget\u001b[0m\u001b[1;33m(\u001b[0m\u001b[1;34m'humidity'\u001b[0m\u001b[1;33m)\u001b[0m \u001b[1;32mfor\u001b[0m \u001b[0md\u001b[0m \u001b[1;32min\u001b[0m \u001b[0mweather_data\u001b[0m\u001b[1;33m]\u001b[0m\u001b[1;33m\u001b[0m\u001b[0m\n\u001b[0;32m      5\u001b[0m \u001b[0mw_data\u001b[0m \u001b[1;33m=\u001b[0m \u001b[1;33m[\u001b[0m\u001b[0md\u001b[0m\u001b[1;33m.\u001b[0m\u001b[0mget\u001b[0m\u001b[1;33m(\u001b[0m\u001b[1;34m'wind'\u001b[0m\u001b[1;33m)\u001b[0m\u001b[1;33m.\u001b[0m\u001b[0mget\u001b[0m\u001b[1;33m(\u001b[0m\u001b[1;34m'speed'\u001b[0m\u001b[1;33m)\u001b[0m \u001b[1;32mfor\u001b[0m \u001b[0md\u001b[0m \u001b[1;32min\u001b[0m \u001b[0mweather_data\u001b[0m\u001b[1;33m]\u001b[0m\u001b[1;33m\u001b[0m\u001b[0m\n",
      "\u001b[1;32m<ipython-input-55-d546d501bd71>\u001b[0m in \u001b[0;36m<listcomp>\u001b[1;34m(.0)\u001b[0m\n\u001b[0;32m      1\u001b[0m \u001b[1;31m# Extract latitude and temperature from json\u001b[0m\u001b[1;33m\u001b[0m\u001b[1;33m\u001b[0m\u001b[0m\n\u001b[1;32m----> 2\u001b[1;33m \u001b[0ml_data\u001b[0m \u001b[1;33m=\u001b[0m \u001b[1;33m[\u001b[0m\u001b[0md\u001b[0m\u001b[1;33m.\u001b[0m\u001b[0mget\u001b[0m\u001b[1;33m(\u001b[0m\u001b[1;34m\"coord\"\u001b[0m\u001b[1;33m)\u001b[0m\u001b[1;33m.\u001b[0m\u001b[0mget\u001b[0m\u001b[1;33m(\u001b[0m\u001b[1;34m\"lat\"\u001b[0m\u001b[1;33m)\u001b[0m \u001b[1;32mfor\u001b[0m \u001b[0md\u001b[0m \u001b[1;32min\u001b[0m \u001b[0mweather_data\u001b[0m\u001b[1;33m]\u001b[0m\u001b[1;33m\u001b[0m\u001b[0m\n\u001b[0m\u001b[0;32m      3\u001b[0m \u001b[0mt_data\u001b[0m \u001b[1;33m=\u001b[0m \u001b[1;33m[\u001b[0m\u001b[0md\u001b[0m\u001b[1;33m.\u001b[0m\u001b[0mget\u001b[0m\u001b[1;33m(\u001b[0m\u001b[1;34m\"main\"\u001b[0m\u001b[1;33m)\u001b[0m\u001b[1;33m.\u001b[0m\u001b[0mget\u001b[0m\u001b[1;33m(\u001b[0m\u001b[1;34m\"temp\"\u001b[0m\u001b[1;33m)\u001b[0m \u001b[1;32mfor\u001b[0m \u001b[0md\u001b[0m \u001b[1;32min\u001b[0m \u001b[0mweather_data\u001b[0m\u001b[1;33m]\u001b[0m\u001b[1;33m\u001b[0m\u001b[0m\n\u001b[0;32m      4\u001b[0m \u001b[0mh_data\u001b[0m \u001b[1;33m=\u001b[0m \u001b[1;33m[\u001b[0m\u001b[0md\u001b[0m\u001b[1;33m.\u001b[0m\u001b[0mget\u001b[0m\u001b[1;33m(\u001b[0m\u001b[1;34m'main'\u001b[0m\u001b[1;33m)\u001b[0m\u001b[1;33m.\u001b[0m\u001b[0mget\u001b[0m\u001b[1;33m(\u001b[0m\u001b[1;34m'humidity'\u001b[0m\u001b[1;33m)\u001b[0m \u001b[1;32mfor\u001b[0m \u001b[0md\u001b[0m \u001b[1;32min\u001b[0m \u001b[0mweather_data\u001b[0m\u001b[1;33m]\u001b[0m\u001b[1;33m\u001b[0m\u001b[0m\n\u001b[0;32m      5\u001b[0m \u001b[0mw_data\u001b[0m \u001b[1;33m=\u001b[0m \u001b[1;33m[\u001b[0m\u001b[0md\u001b[0m\u001b[1;33m.\u001b[0m\u001b[0mget\u001b[0m\u001b[1;33m(\u001b[0m\u001b[1;34m'wind'\u001b[0m\u001b[1;33m)\u001b[0m\u001b[1;33m.\u001b[0m\u001b[0mget\u001b[0m\u001b[1;33m(\u001b[0m\u001b[1;34m'speed'\u001b[0m\u001b[1;33m)\u001b[0m \u001b[1;32mfor\u001b[0m \u001b[0md\u001b[0m \u001b[1;32min\u001b[0m \u001b[0mweather_data\u001b[0m\u001b[1;33m]\u001b[0m\u001b[1;33m\u001b[0m\u001b[0m\n",
      "\u001b[1;31mAttributeError\u001b[0m: 'NoneType' object has no attribute 'get'"
     ]
    }
   ],
   "source": [
    "# Extract latitude and temperature from json\n",
    "l_data = [d.get(\"coord\").get(\"lat\") for d in weather_data]\n",
    "t_data = [d.get(\"main\").get(\"temp\") for d in weather_data]\n",
    "h_data = [d.get('main').get('humidity') for d in weather_data]\n",
    "w_data = [d.get('wind').get('speed') for d in weather_data]\n",
    "c_data = [d.get('clouds').get('all') for d in weather_data]\n"
   ]
  },
  {
   "cell_type": "code",
   "execution_count": 54,
   "metadata": {},
   "outputs": [
    {
     "ename": "NameError",
     "evalue": "name 't_data' is not defined",
     "output_type": "error",
     "traceback": [
      "\u001b[1;31m---------------------------------------------------------------------------\u001b[0m",
      "\u001b[1;31mNameError\u001b[0m                                 Traceback (most recent call last)",
      "\u001b[1;32m<ipython-input-54-01861e0bc7ea>\u001b[0m in \u001b[0;36m<module>\u001b[1;34m()\u001b[0m\n\u001b[1;32m----> 1\u001b[1;33m \u001b[0mlattemp_data\u001b[0m \u001b[1;33m=\u001b[0m \u001b[1;33m{\u001b[0m\u001b[1;34m\"temp\"\u001b[0m\u001b[1;33m:\u001b[0m \u001b[0mt_data\u001b[0m\u001b[1;33m,\u001b[0m \u001b[1;34m\"lat\"\u001b[0m\u001b[1;33m:\u001b[0m \u001b[0ml_data\u001b[0m\u001b[1;33m}\u001b[0m\u001b[1;33m\u001b[0m\u001b[0m\n\u001b[0m\u001b[0;32m      2\u001b[0m \u001b[0mlattemp_data\u001b[0m \u001b[1;33m=\u001b[0m \u001b[0mpd\u001b[0m\u001b[1;33m.\u001b[0m\u001b[0mDataFrame\u001b[0m\u001b[1;33m(\u001b[0m\u001b[0mlattemp_data\u001b[0m\u001b[1;33m)\u001b[0m\u001b[1;33m\u001b[0m\u001b[0m\n\u001b[0;32m      3\u001b[0m \u001b[0mlattemp_data\u001b[0m\u001b[1;33m\u001b[0m\u001b[0m\n",
      "\u001b[1;31mNameError\u001b[0m: name 't_data' is not defined"
     ]
    }
   ],
   "source": [
    "lattemp_data = {\"temp\": t_data, \"lat\": l_data}\n",
    "lattemp_data = pd.DataFrame(lattemp_data)\n",
    "lattemp_data"
   ]
  },
  {
   "cell_type": "code",
   "execution_count": 253,
   "metadata": {},
   "outputs": [
    {
     "data": {
      "image/png": "[encoded data removed]",
      "text/plain": [
       "<matplotlib.figure.Figure at 0x1dc1396ec18>"
      ]
     },
     "metadata": {},
     "output_type": "display_data"
    }
   ],
   "source": [
    "# Build a scatter plot for each data type\n",
    "plt.scatter(lattemp_data[\"lat\"], lattemp_data[\"temp\"], marker=\"o\")\n",
    "\n",
    "# Incorporate the other graph properties\n",
    "plt.title(\"Temperature in World Cities\")\n",
    "plt.ylabel(\"Temperature (F)\")\n",
    "plt.xlabel(\"Latitude\")\n",
    "plt.grid(True)\n",
    "\n",
    "# Save the figure\n",
    "plt.savefig(\"TemperatureinWorldCities.png\")\n",
    "\n",
    "# Show plot\n",
    "plt.show()"
   ]
  },
  {
   "cell_type": "code",
   "execution_count": 254,
   "metadata": {},
   "outputs": [
    {
     "ename": "AttributeError",
     "evalue": "'NoneType' object has no attribute 'get'",
     "output_type": "error",
     "traceback": [
      "\u001b[1;31m---------------------------------------------------------------------------\u001b[0m",
      "\u001b[1;31mAttributeError\u001b[0m                            Traceback (most recent call last)",
      "\u001b[1;32m<ipython-input-254-85421ee9e436>\u001b[0m in \u001b[0;36m<module>\u001b[1;34m()\u001b[0m\n\u001b[0;32m      1\u001b[0m \u001b[1;31m# Extract latitude and humidity from json\u001b[0m\u001b[1;33m\u001b[0m\u001b[1;33m\u001b[0m\u001b[0m\n\u001b[1;32m----> 2\u001b[1;33m \u001b[0ml_data\u001b[0m \u001b[1;33m=\u001b[0m \u001b[1;33m[\u001b[0m\u001b[0md\u001b[0m\u001b[1;33m.\u001b[0m\u001b[0mget\u001b[0m\u001b[1;33m(\u001b[0m\u001b[1;34m\"coord\"\u001b[0m\u001b[1;33m)\u001b[0m\u001b[1;33m.\u001b[0m\u001b[0mget\u001b[0m\u001b[1;33m(\u001b[0m\u001b[1;34m\"lat\"\u001b[0m\u001b[1;33m)\u001b[0m \u001b[1;32mfor\u001b[0m \u001b[0md\u001b[0m \u001b[1;32min\u001b[0m \u001b[0mweather_data\u001b[0m\u001b[1;33m]\u001b[0m\u001b[1;33m\u001b[0m\u001b[0m\n\u001b[0m\u001b[0;32m      3\u001b[0m \u001b[0mh_data\u001b[0m \u001b[1;33m=\u001b[0m \u001b[1;33m[\u001b[0m\u001b[0md\u001b[0m\u001b[1;33m.\u001b[0m\u001b[0mget\u001b[0m\u001b[1;33m(\u001b[0m\u001b[1;34m\"main\"\u001b[0m\u001b[1;33m)\u001b[0m\u001b[1;33m.\u001b[0m\u001b[0mget\u001b[0m\u001b[1;33m(\u001b[0m\u001b[1;34m\"humidity\"\u001b[0m\u001b[1;33m)\u001b[0m \u001b[1;32mfor\u001b[0m \u001b[0md\u001b[0m \u001b[1;32min\u001b[0m \u001b[0mweather_data\u001b[0m\u001b[1;33m]\u001b[0m\u001b[1;33m\u001b[0m\u001b[0m\n\u001b[0;32m      4\u001b[0m \u001b[1;33m\u001b[0m\u001b[0m\n\u001b[0;32m      5\u001b[0m \u001b[0mlathumidity_data\u001b[0m \u001b[1;33m=\u001b[0m \u001b[1;33m{\u001b[0m\u001b[1;34m\"humidity\"\u001b[0m\u001b[1;33m:\u001b[0m \u001b[0mh_data\u001b[0m\u001b[1;33m,\u001b[0m \u001b[1;34m\"lat\"\u001b[0m\u001b[1;33m:\u001b[0m \u001b[0ml_data\u001b[0m\u001b[1;33m}\u001b[0m\u001b[1;33m\u001b[0m\u001b[0m\n",
      "\u001b[1;32m<ipython-input-254-85421ee9e436>\u001b[0m in \u001b[0;36m<listcomp>\u001b[1;34m(.0)\u001b[0m\n\u001b[0;32m      1\u001b[0m \u001b[1;31m# Extract latitude and humidity from json\u001b[0m\u001b[1;33m\u001b[0m\u001b[1;33m\u001b[0m\u001b[0m\n\u001b[1;32m----> 2\u001b[1;33m \u001b[0ml_data\u001b[0m \u001b[1;33m=\u001b[0m \u001b[1;33m[\u001b[0m\u001b[0md\u001b[0m\u001b[1;33m.\u001b[0m\u001b[0mget\u001b[0m\u001b[1;33m(\u001b[0m\u001b[1;34m\"coord\"\u001b[0m\u001b[1;33m)\u001b[0m\u001b[1;33m.\u001b[0m\u001b[0mget\u001b[0m\u001b[1;33m(\u001b[0m\u001b[1;34m\"lat\"\u001b[0m\u001b[1;33m)\u001b[0m \u001b[1;32mfor\u001b[0m \u001b[0md\u001b[0m \u001b[1;32min\u001b[0m \u001b[0mweather_data\u001b[0m\u001b[1;33m]\u001b[0m\u001b[1;33m\u001b[0m\u001b[0m\n\u001b[0m\u001b[0;32m      3\u001b[0m \u001b[0mh_data\u001b[0m \u001b[1;33m=\u001b[0m \u001b[1;33m[\u001b[0m\u001b[0md\u001b[0m\u001b[1;33m.\u001b[0m\u001b[0mget\u001b[0m\u001b[1;33m(\u001b[0m\u001b[1;34m\"main\"\u001b[0m\u001b[1;33m)\u001b[0m\u001b[1;33m.\u001b[0m\u001b[0mget\u001b[0m\u001b[1;33m(\u001b[0m\u001b[1;34m\"humidity\"\u001b[0m\u001b[1;33m)\u001b[0m \u001b[1;32mfor\u001b[0m \u001b[0md\u001b[0m \u001b[1;32min\u001b[0m \u001b[0mweather_data\u001b[0m\u001b[1;33m]\u001b[0m\u001b[1;33m\u001b[0m\u001b[0m\n\u001b[0;32m      4\u001b[0m \u001b[1;33m\u001b[0m\u001b[0m\n\u001b[0;32m      5\u001b[0m \u001b[0mlathumidity_data\u001b[0m \u001b[1;33m=\u001b[0m \u001b[1;33m{\u001b[0m\u001b[1;34m\"humidity\"\u001b[0m\u001b[1;33m:\u001b[0m \u001b[0mh_data\u001b[0m\u001b[1;33m,\u001b[0m \u001b[1;34m\"lat\"\u001b[0m\u001b[1;33m:\u001b[0m \u001b[0ml_data\u001b[0m\u001b[1;33m}\u001b[0m\u001b[1;33m\u001b[0m\u001b[0m\n",
      "\u001b[1;31mAttributeError\u001b[0m: 'NoneType' object has no attribute 'get'"
     ]
    }
   ],
   "source": [
    "# Extract latitude and humidity from json\n",
    "l_data = [d.get(\"coord\").get(\"lat\") for d in weather_data]\n",
    "h_data = [d.get(\"main\").get(\"humidity\") for d in weather_data]\n",
    "\n",
    "lathumidity_data = {\"humidity\": h_data, \"lat\": l_data}\n",
    "lathumidity_data = pd.DataFrame(lathumidity_data)\n",
    "lathumidity_data"
   ]
  },
  {
   "cell_type": "code",
   "execution_count": 255,
   "metadata": {},
   "outputs": [
    {
     "data": {
      "image/png": "[encoded data removed]",
      "text/plain": [
       "<matplotlib.figure.Figure at 0x1dc13991a58>"
      ]
     },
     "metadata": {},
     "output_type": "display_data"
    }
   ],
   "source": [
    "# Build a scatter plot for each data type\n",
    "plt.scatter(lathumidity_data[\"lat\"], lathumidity_data[\"humidity\"], marker=\"o\")\n",
    "\n",
    "# Incorporate the other graph properties\n",
    "plt.title(\"Humidity in World Cities\")\n",
    "plt.ylabel(\"Humidity (%)\")\n",
    "plt.xlabel(\"Latitude\")\n",
    "plt.grid(True)\n",
    "\n",
    "# Save the figure\n",
    "plt.savefig(\"HumidityinWorldCities.png\")\n",
    "\n",
    "# Show plot\n",
    "plt.show()"
   ]
  },
  {
   "cell_type": "code",
   "execution_count": 256,
   "metadata": {},
   "outputs": [
    {
     "ename": "AttributeError",
     "evalue": "'NoneType' object has no attribute 'get'",
     "output_type": "error",
     "traceback": [
      "\u001b[1;31m---------------------------------------------------------------------------\u001b[0m",
      "\u001b[1;31mAttributeError\u001b[0m                            Traceback (most recent call last)",
      "\u001b[1;32m<ipython-input-256-c22b1d51281a>\u001b[0m in \u001b[0;36m<module>\u001b[1;34m()\u001b[0m\n\u001b[0;32m      1\u001b[0m \u001b[1;31m# Extract latitude and cloudiness from json\u001b[0m\u001b[1;33m\u001b[0m\u001b[1;33m\u001b[0m\u001b[0m\n\u001b[1;32m----> 2\u001b[1;33m \u001b[0ml_data\u001b[0m \u001b[1;33m=\u001b[0m \u001b[1;33m[\u001b[0m\u001b[0md\u001b[0m\u001b[1;33m.\u001b[0m\u001b[0mget\u001b[0m\u001b[1;33m(\u001b[0m\u001b[1;34m\"coord\"\u001b[0m\u001b[1;33m)\u001b[0m\u001b[1;33m.\u001b[0m\u001b[0mget\u001b[0m\u001b[1;33m(\u001b[0m\u001b[1;34m\"lat\"\u001b[0m\u001b[1;33m)\u001b[0m \u001b[1;32mfor\u001b[0m \u001b[0md\u001b[0m \u001b[1;32min\u001b[0m \u001b[0mweather_data\u001b[0m\u001b[1;33m]\u001b[0m\u001b[1;33m\u001b[0m\u001b[0m\n\u001b[0m\u001b[0;32m      3\u001b[0m \u001b[0mc_data\u001b[0m \u001b[1;33m=\u001b[0m \u001b[1;33m[\u001b[0m\u001b[0md\u001b[0m\u001b[1;33m.\u001b[0m\u001b[0mget\u001b[0m\u001b[1;33m(\u001b[0m\u001b[1;34m\"clouds\"\u001b[0m\u001b[1;33m)\u001b[0m\u001b[1;33m.\u001b[0m\u001b[0mget\u001b[0m\u001b[1;33m(\u001b[0m\u001b[1;34m\"all\"\u001b[0m\u001b[1;33m)\u001b[0m \u001b[1;32mfor\u001b[0m \u001b[0md\u001b[0m \u001b[1;32min\u001b[0m \u001b[0mweather_data\u001b[0m\u001b[1;33m]\u001b[0m\u001b[1;33m\u001b[0m\u001b[0m\n\u001b[0;32m      4\u001b[0m \u001b[1;33m\u001b[0m\u001b[0m\n\u001b[0;32m      5\u001b[0m \u001b[0mlatclouds_data\u001b[0m \u001b[1;33m=\u001b[0m \u001b[1;33m{\u001b[0m\u001b[1;34m\"all\"\u001b[0m\u001b[1;33m:\u001b[0m \u001b[0mc_data\u001b[0m\u001b[1;33m,\u001b[0m \u001b[1;34m\"lat\"\u001b[0m\u001b[1;33m:\u001b[0m \u001b[0ml_data\u001b[0m\u001b[1;33m}\u001b[0m\u001b[1;33m\u001b[0m\u001b[0m\n",
      "\u001b[1;32m<ipython-input-256-c22b1d51281a>\u001b[0m in \u001b[0;36m<listcomp>\u001b[1;34m(.0)\u001b[0m\n\u001b[0;32m      1\u001b[0m \u001b[1;31m# Extract latitude and cloudiness from json\u001b[0m\u001b[1;33m\u001b[0m\u001b[1;33m\u001b[0m\u001b[0m\n\u001b[1;32m----> 2\u001b[1;33m \u001b[0ml_data\u001b[0m \u001b[1;33m=\u001b[0m \u001b[1;33m[\u001b[0m\u001b[0md\u001b[0m\u001b[1;33m.\u001b[0m\u001b[0mget\u001b[0m\u001b[1;33m(\u001b[0m\u001b[1;34m\"coord\"\u001b[0m\u001b[1;33m)\u001b[0m\u001b[1;33m.\u001b[0m\u001b[0mget\u001b[0m\u001b[1;33m(\u001b[0m\u001b[1;34m\"lat\"\u001b[0m\u001b[1;33m)\u001b[0m \u001b[1;32mfor\u001b[0m \u001b[0md\u001b[0m \u001b[1;32min\u001b[0m \u001b[0mweather_data\u001b[0m\u001b[1;33m]\u001b[0m\u001b[1;33m\u001b[0m\u001b[0m\n\u001b[0m\u001b[0;32m      3\u001b[0m \u001b[0mc_data\u001b[0m \u001b[1;33m=\u001b[0m \u001b[1;33m[\u001b[0m\u001b[0md\u001b[0m\u001b[1;33m.\u001b[0m\u001b[0mget\u001b[0m\u001b[1;33m(\u001b[0m\u001b[1;34m\"clouds\"\u001b[0m\u001b[1;33m)\u001b[0m\u001b[1;33m.\u001b[0m\u001b[0mget\u001b[0m\u001b[1;33m(\u001b[0m\u001b[1;34m\"all\"\u001b[0m\u001b[1;33m)\u001b[0m \u001b[1;32mfor\u001b[0m \u001b[0md\u001b[0m \u001b[1;32min\u001b[0m \u001b[0mweather_data\u001b[0m\u001b[1;33m]\u001b[0m\u001b[1;33m\u001b[0m\u001b[0m\n\u001b[0;32m      4\u001b[0m \u001b[1;33m\u001b[0m\u001b[0m\n\u001b[0;32m      5\u001b[0m \u001b[0mlatclouds_data\u001b[0m \u001b[1;33m=\u001b[0m \u001b[1;33m{\u001b[0m\u001b[1;34m\"all\"\u001b[0m\u001b[1;33m:\u001b[0m \u001b[0mc_data\u001b[0m\u001b[1;33m,\u001b[0m \u001b[1;34m\"lat\"\u001b[0m\u001b[1;33m:\u001b[0m \u001b[0ml_data\u001b[0m\u001b[1;33m}\u001b[0m\u001b[1;33m\u001b[0m\u001b[0m\n",
      "\u001b[1;31mAttributeError\u001b[0m: 'NoneType' object has no attribute 'get'"
     ]
    }
   ],
   "source": [
    "# Extract latitude and cloudiness from json\n",
    "l_data = [d.get(\"coord\").get(\"lat\") for d in weather_data]\n",
    "c_data = [d.get(\"clouds\").get(\"all\") for d in weather_data]\n",
    "\n",
    "latclouds_data = {\"all\": c_data, \"lat\": l_data}\n",
    "latclouds_data = pd.DataFrame(latclouds_data)\n",
    "latclouds_data"
   ]
  },
  {
   "cell_type": "code",
   "execution_count": 257,
   "metadata": {},
   "outputs": [
    {
     "data": {
      "image/png": "[encoded data removed]",
      "text/plain": [
       "<matplotlib.figure.Figure at 0x1dc13a0fb70>"
      ]
     },
     "metadata": {},
     "output_type": "display_data"
    }
   ],
   "source": [
    "# Build a scatter plot for each data type\n",
    "plt.scatter(latclouds_data[\"lat\"], latclouds_data[\"all\"], marker=\"o\")\n",
    "\n",
    "# Incorporate the other graph properties\n",
    "plt.title(\"Cloudiness in World Cities\")\n",
    "plt.ylabel(\"Cloudiness (%)\")\n",
    "plt.xlabel(\"Latitude\")\n",
    "plt.grid(True)\n",
    "\n",
    "# Save the figure\n",
    "plt.savefig(\"CloudinessinWorldCities.png\")\n",
    "\n",
    "# Show plot\n",
    "plt.show()"
   ]
  },
  {
   "cell_type": "code",
   "execution_count": 258,
   "metadata": {},
   "outputs": [
    {
     "ename": "AttributeError",
     "evalue": "'NoneType' object has no attribute 'get'",
     "output_type": "error",
     "traceback": [
      "\u001b[1;31m---------------------------------------------------------------------------\u001b[0m",
      "\u001b[1;31mAttributeError\u001b[0m                            Traceback (most recent call last)",
      "\u001b[1;32m<ipython-input-258-029fbb5d0e16>\u001b[0m in \u001b[0;36m<module>\u001b[1;34m()\u001b[0m\n\u001b[0;32m      1\u001b[0m \u001b[1;31m# Extract latitude and winds from json\u001b[0m\u001b[1;33m\u001b[0m\u001b[1;33m\u001b[0m\u001b[0m\n\u001b[1;32m----> 2\u001b[1;33m \u001b[0ml_data\u001b[0m \u001b[1;33m=\u001b[0m \u001b[1;33m[\u001b[0m\u001b[0md\u001b[0m\u001b[1;33m.\u001b[0m\u001b[0mget\u001b[0m\u001b[1;33m(\u001b[0m\u001b[1;34m\"coord\"\u001b[0m\u001b[1;33m)\u001b[0m\u001b[1;33m.\u001b[0m\u001b[0mget\u001b[0m\u001b[1;33m(\u001b[0m\u001b[1;34m\"lat\"\u001b[0m\u001b[1;33m)\u001b[0m \u001b[1;32mfor\u001b[0m \u001b[0md\u001b[0m \u001b[1;32min\u001b[0m \u001b[0mweather_data\u001b[0m\u001b[1;33m]\u001b[0m\u001b[1;33m\u001b[0m\u001b[0m\n\u001b[0m\u001b[0;32m      3\u001b[0m \u001b[0mw_data\u001b[0m \u001b[1;33m=\u001b[0m \u001b[1;33m[\u001b[0m\u001b[0md\u001b[0m\u001b[1;33m.\u001b[0m\u001b[0mget\u001b[0m\u001b[1;33m(\u001b[0m\u001b[1;34m\"wind\"\u001b[0m\u001b[1;33m)\u001b[0m\u001b[1;33m.\u001b[0m\u001b[0mget\u001b[0m\u001b[1;33m(\u001b[0m\u001b[1;34m\"speed\"\u001b[0m\u001b[1;33m)\u001b[0m \u001b[1;32mfor\u001b[0m \u001b[0md\u001b[0m \u001b[1;32min\u001b[0m \u001b[0mweather_data\u001b[0m\u001b[1;33m]\u001b[0m\u001b[1;33m\u001b[0m\u001b[0m\n\u001b[0;32m      4\u001b[0m \u001b[1;33m\u001b[0m\u001b[0m\n\u001b[0;32m      5\u001b[0m \u001b[0mlatwind_data\u001b[0m \u001b[1;33m=\u001b[0m \u001b[1;33m{\u001b[0m\u001b[1;34m\"speed\"\u001b[0m\u001b[1;33m:\u001b[0m \u001b[0mw_data\u001b[0m\u001b[1;33m,\u001b[0m \u001b[1;34m\"lat\"\u001b[0m\u001b[1;33m:\u001b[0m \u001b[0ml_data\u001b[0m\u001b[1;33m}\u001b[0m\u001b[1;33m\u001b[0m\u001b[0m\n",
      "\u001b[1;32m<ipython-input-258-029fbb5d0e16>\u001b[0m in \u001b[0;36m<listcomp>\u001b[1;34m(.0)\u001b[0m\n\u001b[0;32m      1\u001b[0m \u001b[1;31m# Extract latitude and winds from json\u001b[0m\u001b[1;33m\u001b[0m\u001b[1;33m\u001b[0m\u001b[0m\n\u001b[1;32m----> 2\u001b[1;33m \u001b[0ml_data\u001b[0m \u001b[1;33m=\u001b[0m \u001b[1;33m[\u001b[0m\u001b[0md\u001b[0m\u001b[1;33m.\u001b[0m\u001b[0mget\u001b[0m\u001b[1;33m(\u001b[0m\u001b[1;34m\"coord\"\u001b[0m\u001b[1;33m)\u001b[0m\u001b[1;33m.\u001b[0m\u001b[0mget\u001b[0m\u001b[1;33m(\u001b[0m\u001b[1;34m\"lat\"\u001b[0m\u001b[1;33m)\u001b[0m \u001b[1;32mfor\u001b[0m \u001b[0md\u001b[0m \u001b[1;32min\u001b[0m \u001b[0mweather_data\u001b[0m\u001b[1;33m]\u001b[0m\u001b[1;33m\u001b[0m\u001b[0m\n\u001b[0m\u001b[0;32m      3\u001b[0m \u001b[0mw_data\u001b[0m \u001b[1;33m=\u001b[0m \u001b[1;33m[\u001b[0m\u001b[0md\u001b[0m\u001b[1;33m.\u001b[0m\u001b[0mget\u001b[0m\u001b[1;33m(\u001b[0m\u001b[1;34m\"wind\"\u001b[0m\u001b[1;33m)\u001b[0m\u001b[1;33m.\u001b[0m\u001b[0mget\u001b[0m\u001b[1;33m(\u001b[0m\u001b[1;34m\"speed\"\u001b[0m\u001b[1;33m)\u001b[0m \u001b[1;32mfor\u001b[0m \u001b[0md\u001b[0m \u001b[1;32min\u001b[0m \u001b[0mweather_data\u001b[0m\u001b[1;33m]\u001b[0m\u001b[1;33m\u001b[0m\u001b[0m\n\u001b[0;32m      4\u001b[0m \u001b[1;33m\u001b[0m\u001b[0m\n\u001b[0;32m      5\u001b[0m \u001b[0mlatwind_data\u001b[0m \u001b[1;33m=\u001b[0m \u001b[1;33m{\u001b[0m\u001b[1;34m\"speed\"\u001b[0m\u001b[1;33m:\u001b[0m \u001b[0mw_data\u001b[0m\u001b[1;33m,\u001b[0m \u001b[1;34m\"lat\"\u001b[0m\u001b[1;33m:\u001b[0m \u001b[0ml_data\u001b[0m\u001b[1;33m}\u001b[0m\u001b[1;33m\u001b[0m\u001b[0m\n",
      "\u001b[1;31mAttributeError\u001b[0m: 'NoneType' object has no attribute 'get'"
     ]
    }
   ],
   "source": [
    "# Extract latitude and winds from json\n",
    "l_data = [d.get(\"coord\").get(\"lat\") for d in weather_data]\n",
    "w_data = [d.get(\"wind\").get(\"speed\") for d in weather_data]\n",
    "\n",
    "latwind_data = {\"speed\": w_data, \"lat\": l_data}\n",
    "latwind_data = pd.DataFrame(latwind_data)\n",
    "latwind_data"
   ]
  },
  {
   "cell_type": "code",
   "execution_count": 259,
   "metadata": {},
   "outputs": [
    {
     "data": {
      "image/png": "[encoded data removed]",
      "text/plain": [
       "<matplotlib.figure.Figure at 0x1dc13a78240>"
      ]
     },
     "metadata": {},
     "output_type": "display_data"
    }
   ],
   "source": [
    "# Build a scatter plot for each data type\n",
    "plt.scatter(latwind_data[\"lat\"], latwind_data[\"speed\"], marker=\"o\")\n",
    "\n",
    "# Incorporate the other graph properties\n",
    "plt.title(\"Winds in World Cities\")\n",
    "plt.ylabel(\"Winds (mph)\")\n",
    "plt.xlabel(\"Latitude\")\n",
    "plt.grid(True)\n",
    "\n",
    "# Save the figure\n",
    "plt.savefig(\"WindsinWorldCities.png\")\n",
    "\n",
    "# Show plot\n",
    "plt.show()"
   ]
  },
  {
   "cell_type": "code",
   "execution_count": null,
   "metadata": {},
   "outputs": [],
   "source": []
  },
  {
   "cell_type": "code",
   "execution_count": null,
   "metadata": {},
   "outputs": [],
   "source": []
  },
  {
   "cell_type": "code",
   "execution_count": null,
   "metadata": {},
   "outputs": [],
   "source": []
  }
 ],
 "metadata": {
  "kernelspec": {
   "display_name": "Python [PythonData]",
   "language": "python",
   "name": "pythondata"
  },
  "language_info": {
   "codemirror_mode": {
    "name": "ipython",
    "version": 3
   },
   "file_extension": ".py",
   "mimetype": "text/x-python",
   "name": "python",
   "nbconvert_exporter": "python",
   "pygments_lexer": "ipython3",
   "version": "3.6.3"
  }
 },
 "nbformat": 4,
 "nbformat_minor": 2
}
