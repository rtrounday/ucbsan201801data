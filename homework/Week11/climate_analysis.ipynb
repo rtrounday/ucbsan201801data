{
 "cells": [
  {
   "cell_type": "markdown",
   "metadata": {},
   "source": [
    "### Climate Analysis and Exploration\n",
    "\n",
    "* Performed basic climate analysis and data exploration on weather station tables. Used SQLAlchemy ORM queries, Pandas, and Matplotlib.\n",
    "\n",
    "* Created a Jupyter Notebook file called climate_analysis.ipynb and used it to complete climate analysis and data exporation.\n",
    "\n",
    "* Used SQLAlchemy create_engine to connect to your sqlite database.\n",
    "\n",
    "* Used SQLAlchemy automap_base() to reflect your tables into classes and save a reference to those classes called Station and Measurement."
   ]
  },
  {
   "cell_type": "code",
   "execution_count": 12,
   "metadata": {},
   "outputs": [],
   "source": [
    "import sqlalchemy\n",
    "from sqlalchemy.ext.automap import automap_base\n",
    "from sqlalchemy.orm import Session\n",
    "from sqlalchemy import create_engine\n",
    "import pandas as pd\n",
    "from datetime import datetime\n",
    "import matplotlib.pyplot as plt\n",
    "import numpy as np"
   ]
  },
  {
   "cell_type": "code",
   "execution_count": 13,
   "metadata": {},
   "outputs": [],
   "source": [
    "# Create database connection\n",
    "engine = create_engine('sqlite:///hawaii.sqlite')"
   ]
  },
  {
   "cell_type": "code",
   "execution_count": 14,
   "metadata": {},
   "outputs": [],
   "source": [
    "# Declare a base using 'automap_base()'\n",
    "Base = automap_base()\n",
    "#Use the base class to reflect the database tables\n",
    "Base.prepare(engine, reflect=True)\n"
   ]
  },
  {
   "cell_type": "code",
   "execution_count": 15,
   "metadata": {},
   "outputs": [
    {
     "data": {
      "text/plain": [
       "['measurements', 'stations']"
      ]
     },
     "execution_count": 15,
     "metadata": {},
     "output_type": "execute_result"
    }
   ],
   "source": [
    "Base.classes.keys()"
   ]
  },
  {
   "cell_type": "code",
   "execution_count": 16,
   "metadata": {},
   "outputs": [
    {
     "name": "stderr",
     "output_type": "stream",
     "text": [
      "'rm' is not recognized as an internal or external command,\n",
      "operable program or batch file.\n",
      "'rm' is not recognized as an internal or external command,\n",
      "operable program or batch file.\n"
     ]
    }
   ],
   "source": [
    "!rm hawaii.sb\n",
    "!rm hawaii.sqlite"
   ]
  },
  {
   "cell_type": "code",
   "execution_count": 17,
   "metadata": {},
   "outputs": [],
   "source": [
    "meas=Base.classes.measurements\n",
    "station=Base.classes.stations"
   ]
  },
  {
   "cell_type": "code",
   "execution_count": 18,
   "metadata": {},
   "outputs": [],
   "source": [
    "#Create a session\n",
    "session=Session(engine)"
   ]
  },
  {
   "cell_type": "code",
   "execution_count": 21,
   "metadata": {},
   "outputs": [
    {
     "ename": "AttributeError",
     "evalue": "'NoneType' object has no attribute '__dict__'",
     "output_type": "error",
     "traceback": [
      "\u001b[1;31m---------------------------------------------------------------------------\u001b[0m",
      "\u001b[1;31mAttributeError\u001b[0m                            Traceback (most recent call last)",
      "\u001b[1;32m<ipython-input-21-d0f0c4c8bb95>\u001b[0m in \u001b[0;36m<module>\u001b[1;34m()\u001b[0m\n\u001b[0;32m      1\u001b[0m \u001b[1;31m#Display the row's columns and data in dictionary format\u001b[0m\u001b[1;33m\u001b[0m\u001b[1;33m\u001b[0m\u001b[0m\n\u001b[0;32m      2\u001b[0m \u001b[0mfirst_row\u001b[0m\u001b[1;33m=\u001b[0m\u001b[0msession\u001b[0m\u001b[1;33m.\u001b[0m\u001b[0mquery\u001b[0m\u001b[1;33m(\u001b[0m\u001b[0mmeas\u001b[0m\u001b[1;33m)\u001b[0m\u001b[1;33m.\u001b[0m\u001b[0mfirst\u001b[0m\u001b[1;33m(\u001b[0m\u001b[1;33m)\u001b[0m\u001b[1;33m\u001b[0m\u001b[0m\n\u001b[1;32m----> 3\u001b[1;33m \u001b[0mfirst_row\u001b[0m\u001b[1;33m.\u001b[0m\u001b[0m__dict__\u001b[0m\u001b[1;33m\u001b[0m\u001b[0m\n\u001b[0m",
      "\u001b[1;31mAttributeError\u001b[0m: 'NoneType' object has no attribute '__dict__'"
     ]
    }
   ],
   "source": [
    "#Display the row's columns and data in dictionary format\n",
    "first_row=session.query(meas).first()\n",
    "first_row.__dict__"
   ]
  },
  {
   "cell_type": "markdown",
   "metadata": {},
   "source": [
    "## Precipitation Analysis\n",
    "* Designed a query to retrieve the last 12 months of precipitation data.\n",
    "\n",
    "* Selected only the date and prcp values.\n",
    "\n",
    "* Loaded the query results into a Pandas DataFrame and set the index to the date column.\n",
    "\n",
    "* Plotted the results using the DataFrame plot method."
   ]
  },
  {
   "cell_type": "code",
   "execution_count": 14,
   "metadata": {},
   "outputs": [
    {
     "ename": "AttributeError",
     "evalue": "type object 'measurements' has no attribute 'prcp'",
     "output_type": "error",
     "traceback": [
      "\u001b[1;31m---------------------------------------------------------------------------\u001b[0m",
      "\u001b[1;31mAttributeError\u001b[0m                            Traceback (most recent call last)",
      "\u001b[1;32m<ipython-input-14-7f3d45717fd8>\u001b[0m in \u001b[0;36m<module>\u001b[1;34m()\u001b[0m\n\u001b[0;32m      9\u001b[0m \u001b[1;31m# datetime.strptime(meas.date, '%Y-%m-%d').date()> datetime.date(2017,4,5)\u001b[0m\u001b[1;33m\u001b[0m\u001b[1;33m\u001b[0m\u001b[0m\n\u001b[0;32m     10\u001b[0m \u001b[1;33m\u001b[0m\u001b[0m\n\u001b[1;32m---> 11\u001b[1;33m \u001b[0mlast_12_months\u001b[0m \u001b[1;33m=\u001b[0m \u001b[0msession\u001b[0m\u001b[1;33m.\u001b[0m\u001b[0mquery\u001b[0m\u001b[1;33m(\u001b[0m\u001b[0mmeas\u001b[0m\u001b[1;33m.\u001b[0m\u001b[0mdate\u001b[0m\u001b[1;33m,\u001b[0m \u001b[0mmeas\u001b[0m\u001b[1;33m.\u001b[0m\u001b[0mprcp\u001b[0m\u001b[1;33m,\u001b[0m\u001b[0mmeas\u001b[0m\u001b[1;33m.\u001b[0m\u001b[0mtobs\u001b[0m\u001b[1;33m)\u001b[0m\u001b[1;33m.\u001b[0m    \u001b[0mfilter\u001b[0m\u001b[1;33m(\u001b[0m\u001b[0mmeas\u001b[0m\u001b[1;33m.\u001b[0m\u001b[0mdate\u001b[0m\u001b[1;33m>\u001b[0m\u001b[1;34m'2016-08-22'\u001b[0m\u001b[1;33m)\u001b[0m\u001b[1;33m\u001b[0m\u001b[0m\n\u001b[0m\u001b[0;32m     12\u001b[0m \u001b[1;32mfor\u001b[0m \u001b[0mdate\u001b[0m\u001b[1;33m,\u001b[0m \u001b[0mprcp\u001b[0m\u001b[1;33m,\u001b[0m \u001b[0mtobs\u001b[0m \u001b[1;32min\u001b[0m \u001b[0mlast_12_months\u001b[0m\u001b[1;33m.\u001b[0m\u001b[0mall\u001b[0m\u001b[1;33m(\u001b[0m\u001b[1;33m)\u001b[0m\u001b[1;33m:\u001b[0m\u001b[1;33m\u001b[0m\u001b[0m\n\u001b[0;32m     13\u001b[0m \u001b[1;31m#     print(key, value)\u001b[0m\u001b[1;33m\u001b[0m\u001b[1;33m\u001b[0m\u001b[0m\n",
      "\u001b[1;31mAttributeError\u001b[0m: type object 'measurements' has no attribute 'prcp'"
     ]
    }
   ],
   "source": [
    "# Plotted the precipitation for each day in the last year.\n",
    "# Averaged the measurements to get one measurement value each day.\n",
    "# Max date is '2017-08-23', will take 12 months of data from this date.\n",
    "d={}\n",
    "dates=[]\n",
    "prcps=[]\n",
    "l_tobs=[]\n",
    "# datetime.strptime(meas.date, '%Y-%m-%d').date()> datetime.date(2017,4,5)\n",
    "\n",
    "last_12_months = session.query(meas.date, meas.prcp,meas.tobs).\\\n",
    "    filter(meas.date>'2016-08-22')\n",
    "for date, prcp, tobs in last_12_months.all():\n",
    "#     print(key, value)\n",
    "    dates.append(date)\n",
    "    prcps.append(prcp)\n",
    "    l_tobs.append(tobs)\n",
    "\n",
    "    \n",
    "d[\"Dates\"]=dates\n",
    "d[\"prcps\"]=prcps\n",
    "d[\"tobs\"]=tobs\n",
    "df=pd.DataFrame(d)\n",
    "df.set_index(\"Dates\")\n",
    "df.head()\n"
   ]
  },
  {
   "cell_type": "code",
   "execution_count": 9,
   "metadata": {},
   "outputs": [
    {
     "data": {
      "text/html": [
       "<div>\n",
       "<style scoped>\n",
       "    .dataframe tbody tr th:only-of-type {\n",
       "        vertical-align: middle;\n",
       "    }\n",
       "\n",
       "    .dataframe tbody tr th {\n",
       "        vertical-align: top;\n",
       "    }\n",
       "\n",
       "    .dataframe thead th {\n",
       "        text-align: right;\n",
       "    }\n",
       "</style>\n",
       "<table border=\"1\" class=\"dataframe\">\n",
       "  <thead>\n",
       "    <tr style=\"text-align: right;\">\n",
       "      <th></th>\n",
       "      <th>prcps</th>\n",
       "      <th>tobs</th>\n",
       "    </tr>\n",
       "    <tr>\n",
       "      <th>Dates</th>\n",
       "      <th></th>\n",
       "      <th></th>\n",
       "    </tr>\n",
       "  </thead>\n",
       "  <tbody>\n",
       "    <tr>\n",
       "      <th>2016-08-23</th>\n",
       "      <td>0.451667</td>\n",
       "      <td>76</td>\n",
       "    </tr>\n",
       "    <tr>\n",
       "      <th>2016-08-24</th>\n",
       "      <td>1.555000</td>\n",
       "      <td>76</td>\n",
       "    </tr>\n",
       "    <tr>\n",
       "      <th>2016-08-25</th>\n",
       "      <td>0.077143</td>\n",
       "      <td>76</td>\n",
       "    </tr>\n",
       "    <tr>\n",
       "      <th>2016-08-26</th>\n",
       "      <td>0.016667</td>\n",
       "      <td>76</td>\n",
       "    </tr>\n",
       "    <tr>\n",
       "      <th>2016-08-27</th>\n",
       "      <td>0.064000</td>\n",
       "      <td>76</td>\n",
       "    </tr>\n",
       "  </tbody>\n",
       "</table>\n",
       "</div>"
      ],
      "text/plain": [
       "               prcps  tobs\n",
       "Dates                     \n",
       "2016-08-23  0.451667    76\n",
       "2016-08-24  1.555000    76\n",
       "2016-08-25  0.077143    76\n",
       "2016-08-26  0.016667    76\n",
       "2016-08-27  0.064000    76"
      ]
     },
     "metadata": {},
     "output_type": "display_data"
    },
    {
     "data": {
      "text/plain": [
       "<matplotlib.axes._subplots.AxesSubplot at 0x109ac8080>"
      ]
     },
     "execution_count": 9,
     "metadata": {},
     "output_type": "execute_result"
    },
    {
     "data": {
      "image/png": "[encoded data removed]",
      "text/plain": [
       "<matplotlib.figure.Figure at 0x109a70d30>"
      ]
     },
     "metadata": {},
     "output_type": "display_data"
    }
   ],
   "source": [
    "# Organize dataframe by date\n",
    "\n",
    "df_grp1=df.groupby('Dates').mean()\n",
    "display(df_grp1.head())\n",
    "\n",
    "df_grp1.plot(y=\"prcps\",title=\"Precipitation 2016-08-22 to 2017-08-23\")\n"
   ]
  },
  {
   "cell_type": "markdown",
   "metadata": {},
   "source": [
    "### Station Analysis\n",
    "\n",
    "* Designed a query to calculate the total number of stations.\n",
    "\n",
    "* Designed a query to find the most active stations.\n",
    "\n",
    "  * Listed the stations and observation counts in descending order\n",
    "\n",
    "  * Arrived at highest number of observations?\n",
    "\n",
    "* Designed a query to retrieve the last 12 months of temperature observation data (tobs).\n",
    "\n",
    "  * Filtered by the station with the highest number of observations.\n",
    "\n",
    "  * Plotted the results as a histogram with `bins=12`.\n"
   ]
  },
  {
   "cell_type": "code",
   "execution_count": 10,
   "metadata": {},
   "outputs": [
    {
     "name": "stdout",
     "output_type": "stream",
     "text": [
      "('USC00519397',)\n",
      "('USC00513117',)\n",
      "('USC00514830',)\n",
      "('USC00517948',)\n",
      "('USC00518838',)\n",
      "('USC00519523',)\n",
      "('USC00519281',)\n",
      "('USC00511918',)\n",
      "('USC00516128',)\n"
     ]
    }
   ],
   "source": [
    "# Tot number of stations are 9\n",
    "tot_station= session.query(station).count()\n",
    "for station in session.query(station.station):\n",
    "    print(station)"
   ]
  },
  {
   "cell_type": "code",
   "execution_count": 11,
   "metadata": {},
   "outputs": [
    {
     "data": {
      "text/html": [
       "<div>\n",
       "<style scoped>\n",
       "    .dataframe tbody tr th:only-of-type {\n",
       "        vertical-align: middle;\n",
       "    }\n",
       "\n",
       "    .dataframe tbody tr th {\n",
       "        vertical-align: top;\n",
       "    }\n",
       "\n",
       "    .dataframe thead th {\n",
       "        text-align: right;\n",
       "    }\n",
       "</style>\n",
       "<table border=\"1\" class=\"dataframe\">\n",
       "  <thead>\n",
       "    <tr style=\"text-align: right;\">\n",
       "      <th></th>\n",
       "      <th>prcps</th>\n",
       "    </tr>\n",
       "    <tr>\n",
       "      <th>Station</th>\n",
       "      <th></th>\n",
       "    </tr>\n",
       "  </thead>\n",
       "  <tbody>\n",
       "    <tr>\n",
       "      <th>USC00519281</th>\n",
       "      <td>2772</td>\n",
       "    </tr>\n",
       "    <tr>\n",
       "      <th>USC00513117</th>\n",
       "      <td>2696</td>\n",
       "    </tr>\n",
       "    <tr>\n",
       "      <th>USC00519397</th>\n",
       "      <td>2685</td>\n",
       "    </tr>\n",
       "    <tr>\n",
       "      <th>USC00519523</th>\n",
       "      <td>2572</td>\n",
       "    </tr>\n",
       "    <tr>\n",
       "      <th>USC00516128</th>\n",
       "      <td>2484</td>\n",
       "    </tr>\n",
       "    <tr>\n",
       "      <th>USC00514830</th>\n",
       "      <td>1937</td>\n",
       "    </tr>\n",
       "    <tr>\n",
       "      <th>USC00511918</th>\n",
       "      <td>1932</td>\n",
       "    </tr>\n",
       "    <tr>\n",
       "      <th>USC00517948</th>\n",
       "      <td>683</td>\n",
       "    </tr>\n",
       "    <tr>\n",
       "      <th>USC00518838</th>\n",
       "      <td>342</td>\n",
       "    </tr>\n",
       "  </tbody>\n",
       "</table>\n",
       "</div>"
      ],
      "text/plain": [
       "             prcps\n",
       "Station           \n",
       "USC00519281   2772\n",
       "USC00513117   2696\n",
       "USC00519397   2685\n",
       "USC00519523   2572\n",
       "USC00516128   2484\n",
       "USC00514830   1937\n",
       "USC00511918   1932\n",
       "USC00517948    683\n",
       "USC00518838    342"
      ]
     },
     "execution_count": 11,
     "metadata": {},
     "output_type": "execute_result"
    }
   ],
   "source": [
    "#The most activate stations\n",
    "# This station has the highest number:USC00519281\n",
    "\n",
    "m_station=[]\n",
    "m_prcp=[]\n",
    "meas_station = session.query(meas.station, meas.prcp)\n",
    "for station, prcps in meas_station:\n",
    "    m_station.append(station)\n",
    "    m_prcp.append(prcps)\n",
    "    \n",
    "\n",
    "dict={}\n",
    "dict[\"Station\"]=m_station\n",
    "dict[\"prcps\"]=m_prcp\n",
    "df1=pd.DataFrame(dict)\n",
    "df1_cnt=df1.groupby(\"Station\").count()\n",
    "df1_cnt.sort_values(by=\"prcps\",ascending=False)"
   ]
  },
  {
   "cell_type": "code",
   "execution_count": 17,
   "metadata": {},
   "outputs": [
    {
     "data": {
      "text/html": [
       "<div>\n",
       "<style scoped>\n",
       "    .dataframe tbody tr th:only-of-type {\n",
       "        vertical-align: middle;\n",
       "    }\n",
       "\n",
       "    .dataframe tbody tr th {\n",
       "        vertical-align: top;\n",
       "    }\n",
       "\n",
       "    .dataframe thead th {\n",
       "        text-align: right;\n",
       "    }\n",
       "</style>\n",
       "<table border=\"1\" class=\"dataframe\">\n",
       "  <thead>\n",
       "    <tr style=\"text-align: right;\">\n",
       "      <th></th>\n",
       "      <th>Dates</th>\n",
       "      <th>tobs</th>\n",
       "    </tr>\n",
       "  </thead>\n",
       "  <tbody>\n",
       "    <tr>\n",
       "      <th>0</th>\n",
       "      <td>2016-08-23</td>\n",
       "      <td>77</td>\n",
       "    </tr>\n",
       "    <tr>\n",
       "      <th>1</th>\n",
       "      <td>2016-08-24</td>\n",
       "      <td>77</td>\n",
       "    </tr>\n",
       "    <tr>\n",
       "      <th>2</th>\n",
       "      <td>2016-08-25</td>\n",
       "      <td>80</td>\n",
       "    </tr>\n",
       "    <tr>\n",
       "      <th>3</th>\n",
       "      <td>2016-08-26</td>\n",
       "      <td>80</td>\n",
       "    </tr>\n",
       "    <tr>\n",
       "      <th>4</th>\n",
       "      <td>2016-08-27</td>\n",
       "      <td>75</td>\n",
       "    </tr>\n",
       "    <tr>\n",
       "      <th>5</th>\n",
       "      <td>2016-08-28</td>\n",
       "      <td>73</td>\n",
       "    </tr>\n",
       "    <tr>\n",
       "      <th>6</th>\n",
       "      <td>2016-08-29</td>\n",
       "      <td>78</td>\n",
       "    </tr>\n",
       "    <tr>\n",
       "      <th>7</th>\n",
       "      <td>2016-08-30</td>\n",
       "      <td>77</td>\n",
       "    </tr>\n",
       "    <tr>\n",
       "      <th>8</th>\n",
       "      <td>2016-08-31</td>\n",
       "      <td>78</td>\n",
       "    </tr>\n",
       "    <tr>\n",
       "      <th>9</th>\n",
       "      <td>2016-09-01</td>\n",
       "      <td>80</td>\n",
       "    </tr>\n",
       "  </tbody>\n",
       "</table>\n",
       "</div>"
      ],
      "text/plain": [
       "        Dates  tobs\n",
       "0  2016-08-23    77\n",
       "1  2016-08-24    77\n",
       "2  2016-08-25    80\n",
       "3  2016-08-26    80\n",
       "4  2016-08-27    75\n",
       "5  2016-08-28    73\n",
       "6  2016-08-29    78\n",
       "7  2016-08-30    77\n",
       "8  2016-08-31    78\n",
       "9  2016-09-01    80"
      ]
     },
     "execution_count": 17,
     "metadata": {},
     "output_type": "execute_result"
    }
   ],
   "source": [
    "## Query to retrieve the last 12 months of temperature observed,\n",
    "#   filtered by the station with the highest number of observations\n",
    "\n",
    "d={}\n",
    "dates=[]\n",
    "prcps=[]\n",
    "l_tobs=[]\n",
    "\n",
    "last_12_months = session.query(meas.date, meas.tobs).\\\n",
    "    filter(meas.date>'2016-08-22').filter(meas.station=='USC00519281')\n",
    "for date, tobs in last_12_months:\n",
    "    dates.append(date)\n",
    "#     prcps.append(prcp)\n",
    "    l_tobs.append(tobs)\n",
    "\n",
    "    \n",
    "d[\"Dates\"]=dates\n",
    "# d[\"prcps\"]=prcps\n",
    "d[\"tobs\"]=l_tobs\n",
    "df2=pd.DataFrame(d)\n",
    "df2.set_index(\"Dates\")\n",
    "df2.head(10)"
   ]
  },
  {
   "cell_type": "code",
   "execution_count": 27,
   "metadata": {},
   "outputs": [],
   "source": [
    "# plot the results as a histogram with bins of 12\n",
    "# tobs max = 79, tobs min=59\n",
    "bins =[58,60,62,64,66,68,70,72,74,76,78,80,82]\n",
    "(79-59)/12 #2\n",
    "bin_names = ['58->60', '60->62', '62->64', '64->66','66->68','68->70','70->72',\\\n",
    "            '72->74','74->76','76->78','78->80','80->82']"
   ]
  },
  {
   "cell_type": "code",
   "execution_count": 35,
   "metadata": {},
   "outputs": [
    {
     "data": {
      "text/plain": [
       "Temperature Groups\n",
       "58->60     5\n",
       "60->62     7\n",
       "62->64     7\n",
       "64->66    12\n",
       "66->68    27\n",
       "68->70    41\n",
       "70->72    40\n",
       "72->74    57\n",
       "74->76    66\n",
       "76->78    53\n",
       "78->80    29\n",
       "80->82     7\n",
       "Name: tobs, dtype: int64"
      ]
     },
     "execution_count": 35,
     "metadata": {},
     "output_type": "execute_result"
    }
   ],
   "source": [
    "# Cut postTestScore and place the scores into bins\n",
    "df2[\"Temperature Groups\"] = pd.cut(df2[\"tobs\"], bins, labels=bin_names)\n",
    "# Creating a group based off of the bins\n",
    "df2_grp1=df2.groupby(\"Temperature Groups\").count()\n",
    "df2_grp1[\"tobs\"]"
   ]
  },
  {
   "cell_type": "code",
   "execution_count": 39,
   "metadata": {},
   "outputs": [
    {
     "data": {
      "text/plain": [
       "Text(0,0.5,'Frequency')"
      ]
     },
     "execution_count": 39,
     "metadata": {},
     "output_type": "execute_result"
    },
    {
     "data": {
      "image/png": "[encoded data removed]",
      "text/plain": [
       "<matplotlib.figure.Figure at 0x113072208>"
      ]
     },
     "metadata": {},
     "output_type": "display_data"
    }
   ],
   "source": [
    "# Plot result into an histogram\n",
    "x_axis=np.arange(12)\n",
    "tick_locations =[value for value in x_axis]\n",
    "plt.xticks(tick_locations,bin_names, rotation=90)\n",
    "plt.bar(x_axis, df2_grp1[\"tobs\"])\n",
    "plt.title(\"Frequency of Temperatures\")\n",
    "plt.xlabel(\"Temperatures\")\n",
    "plt.ylabel(\"Frequency\")"
   ]
  },
  {
   "cell_type": "markdown",
   "metadata": {},
   "source": [
    "### Temperature Analysis\n",
    "\n",
    "* Arrived at a function called `calc_temps` that will accept a start date and end date in the format `%Y-%m-%d` and return the minimum, average, and maximum temperatures for that range of dates.\n",
    "\n",
    "* Used the `calc_temps` function to calculate the min, avg, and max temperatures for your trip using the matching dates from the previous year (i.e. use \"2017-01-01\" if your trip start date was \"2018-01-01\")\n",
    "\n",
    "* Plotted the min, avg, and max temperature from your previous query as a bar chart.\n",
    "\n",
    "  * Used the average temperature as the bar height.\n",
    "\n",
    "  * Used the peak-to-peak (tmax-tmin) value as the y error bar (yerr).\n",
    "\n"
   ]
  },
  {
   "cell_type": "code",
   "execution_count": 41,
   "metadata": {},
   "outputs": [
    {
     "name": "stdout",
     "output_type": "stream",
     "text": [
      "{'max': 78, 'min': 65, 'avg': 73.14}\n"
     ]
    }
   ],
   "source": [
    "def calc_temps(start_date, end_date):\n",
    "    #input date format: `%Y-%m-%d`\n",
    "    d_return={}\n",
    "    #Assuming the temperature for all the stations are being used.\n",
    "    d={}\n",
    "    l_dates=[]\n",
    "    l_tobs=[]\n",
    "\n",
    "    last_12_months = session.query(meas.date, meas.tobs).\\\n",
    "        filter(meas.date>=start_date).filter(meas.date<=end_date)\n",
    "    for date, tobs in last_12_months:\n",
    "        l_dates.append(date)\n",
    "        l_tobs.append(tobs)\n",
    "\n",
    "\n",
    "    d[\"Dates\"]=l_dates\n",
    "    d[\"tobs\"]=l_tobs\n",
    "    df3=pd.DataFrame(d)\n",
    "    d_return[\"max\"]=df3[\"tobs\"].max()\n",
    "    d_return[\"min\"]=df3[\"tobs\"].min()\n",
    "    d_return[\"avg\"]=df3[\"tobs\"].mean().round(2)\n",
    "    return d_return\n",
    "\n",
    "start_date='2016-04-03'\n",
    "end_date='2016-04-13'\n",
    "\n",
    "dict=calc_temps(start_date,end_date)\n",
    "print(dict)\n"
   ]
  },
  {
   "cell_type": "code",
   "execution_count": 50,
   "metadata": {},
   "outputs": [
    {
     "data": {
      "text/plain": [
       "Text(0,0.5,'Temperature')"
      ]
     },
     "execution_count": 50,
     "metadata": {},
     "output_type": "execute_result"
    },
    {
     "data": {
      "image/png": "[encoded data removed]",
      "text/plain": [
       "<matplotlib.figure.Figure at 0x113fb8940>"
      ]
     },
     "metadata": {},
     "output_type": "display_data"
    }
   ],
   "source": [
    "#Graph the results \n",
    "plt.bar(1,dict[\"avg\"],color=\"orange\",yerr=dict[\"max\"]-dict[\"min\"])\n",
    "# Avg Temperature on your trip \\n2016-04-13 to 2016-04-13\n",
    "plt.title(\"Trip Avg Temp\")\n",
    "plt.ylabel(\"Temperature\")"
   ]
  },
  {
   "cell_type": "code",
   "execution_count": null,
   "metadata": {},
   "outputs": [],
   "source": []
  }
 ],
 "metadata": {
  "kernelspec": {
   "display_name": "Python [PythonData]",
   "language": "python",
   "name": "pythondata"
  },
  "language_info": {
   "codemirror_mode": {
    "name": "ipython",
    "version": 3
   },
   "file_extension": ".py",
   "mimetype": "text/x-python",
   "name": "python",
   "nbconvert_exporter": "python",
   "pygments_lexer": "ipython3",
   "version": "3.6.3"
  }
 },
 "nbformat": 4,
 "nbformat_minor": 2
}
